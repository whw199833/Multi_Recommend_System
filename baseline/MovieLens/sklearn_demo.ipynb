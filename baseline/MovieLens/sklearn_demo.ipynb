{
 "cells": [
  {
   "cell_type": "code",
   "execution_count": 15,
   "id": "7ffbf35e",
   "metadata": {},
   "outputs": [],
   "source": [
    "import pandas as pd\n",
    "import numpy as np\n",
    "import sklearn\n",
    "from sklearn.model_selection import train_test_split"
   ]
  },
  {
   "cell_type": "code",
   "execution_count": 16,
   "id": "f546348c",
   "metadata": {},
   "outputs": [],
   "source": [
    "data = pd.read_csv('MovieLens_clean.csv', index_col = 0)"
   ]
  },
  {
   "cell_type": "code",
   "execution_count": 17,
   "id": "1e42bc6e",
   "metadata": {},
   "outputs": [
    {
     "data": {
      "text/html": [
       "<div>\n",
       "<style scoped>\n",
       "    .dataframe tbody tr th:only-of-type {\n",
       "        vertical-align: middle;\n",
       "    }\n",
       "\n",
       "    .dataframe tbody tr th {\n",
       "        vertical-align: top;\n",
       "    }\n",
       "\n",
       "    .dataframe thead th {\n",
       "        text-align: right;\n",
       "    }\n",
       "</style>\n",
       "<table border=\"1\" class=\"dataframe\">\n",
       "  <thead>\n",
       "    <tr style=\"text-align: right;\">\n",
       "      <th></th>\n",
       "      <th>user_id</th>\n",
       "      <th>item_id</th>\n",
       "      <th>rating</th>\n",
       "      <th>rating_timestamp</th>\n",
       "      <th>title</th>\n",
       "      <th>(no genres listed)</th>\n",
       "      <th>Action</th>\n",
       "      <th>Adventure</th>\n",
       "      <th>Animation</th>\n",
       "      <th>Children</th>\n",
       "      <th>...</th>\n",
       "      <th>Mystery</th>\n",
       "      <th>Romance</th>\n",
       "      <th>Sci-Fi</th>\n",
       "      <th>Thriller</th>\n",
       "      <th>War</th>\n",
       "      <th>Western</th>\n",
       "      <th>imdb_id</th>\n",
       "      <th>tmdb_id</th>\n",
       "      <th>tag</th>\n",
       "      <th>timestamp</th>\n",
       "    </tr>\n",
       "  </thead>\n",
       "  <tbody>\n",
       "    <tr>\n",
       "      <th>0</th>\n",
       "      <td>1</td>\n",
       "      <td>1</td>\n",
       "      <td>4.0</td>\n",
       "      <td>964982703</td>\n",
       "      <td>Toy Story (1995)</td>\n",
       "      <td>0</td>\n",
       "      <td>0</td>\n",
       "      <td>1</td>\n",
       "      <td>1</td>\n",
       "      <td>1</td>\n",
       "      <td>...</td>\n",
       "      <td>0</td>\n",
       "      <td>0</td>\n",
       "      <td>0</td>\n",
       "      <td>0</td>\n",
       "      <td>0</td>\n",
       "      <td>0</td>\n",
       "      <td>114709</td>\n",
       "      <td>862.0</td>\n",
       "      <td>1543</td>\n",
       "      <td>NaN</td>\n",
       "    </tr>\n",
       "    <tr>\n",
       "      <th>1</th>\n",
       "      <td>1</td>\n",
       "      <td>3</td>\n",
       "      <td>4.0</td>\n",
       "      <td>964981247</td>\n",
       "      <td>Grumpier Old Men (1995)</td>\n",
       "      <td>0</td>\n",
       "      <td>0</td>\n",
       "      <td>0</td>\n",
       "      <td>0</td>\n",
       "      <td>0</td>\n",
       "      <td>...</td>\n",
       "      <td>0</td>\n",
       "      <td>1</td>\n",
       "      <td>0</td>\n",
       "      <td>0</td>\n",
       "      <td>0</td>\n",
       "      <td>0</td>\n",
       "      <td>113228</td>\n",
       "      <td>15602.0</td>\n",
       "      <td>1543</td>\n",
       "      <td>NaN</td>\n",
       "    </tr>\n",
       "    <tr>\n",
       "      <th>2</th>\n",
       "      <td>1</td>\n",
       "      <td>6</td>\n",
       "      <td>4.0</td>\n",
       "      <td>964982224</td>\n",
       "      <td>Heat (1995)</td>\n",
       "      <td>0</td>\n",
       "      <td>1</td>\n",
       "      <td>0</td>\n",
       "      <td>0</td>\n",
       "      <td>0</td>\n",
       "      <td>...</td>\n",
       "      <td>0</td>\n",
       "      <td>0</td>\n",
       "      <td>0</td>\n",
       "      <td>1</td>\n",
       "      <td>0</td>\n",
       "      <td>0</td>\n",
       "      <td>113277</td>\n",
       "      <td>949.0</td>\n",
       "      <td>1543</td>\n",
       "      <td>NaN</td>\n",
       "    </tr>\n",
       "    <tr>\n",
       "      <th>3</th>\n",
       "      <td>1</td>\n",
       "      <td>47</td>\n",
       "      <td>5.0</td>\n",
       "      <td>964983815</td>\n",
       "      <td>Seven (a.k.a. Se7en) (1995)</td>\n",
       "      <td>0</td>\n",
       "      <td>0</td>\n",
       "      <td>0</td>\n",
       "      <td>0</td>\n",
       "      <td>0</td>\n",
       "      <td>...</td>\n",
       "      <td>1</td>\n",
       "      <td>0</td>\n",
       "      <td>0</td>\n",
       "      <td>1</td>\n",
       "      <td>0</td>\n",
       "      <td>0</td>\n",
       "      <td>114369</td>\n",
       "      <td>807.0</td>\n",
       "      <td>1543</td>\n",
       "      <td>NaN</td>\n",
       "    </tr>\n",
       "    <tr>\n",
       "      <th>4</th>\n",
       "      <td>1</td>\n",
       "      <td>50</td>\n",
       "      <td>5.0</td>\n",
       "      <td>964982931</td>\n",
       "      <td>Usual Suspects, The (1995)</td>\n",
       "      <td>0</td>\n",
       "      <td>0</td>\n",
       "      <td>0</td>\n",
       "      <td>0</td>\n",
       "      <td>0</td>\n",
       "      <td>...</td>\n",
       "      <td>1</td>\n",
       "      <td>0</td>\n",
       "      <td>0</td>\n",
       "      <td>1</td>\n",
       "      <td>0</td>\n",
       "      <td>0</td>\n",
       "      <td>114814</td>\n",
       "      <td>629.0</td>\n",
       "      <td>1543</td>\n",
       "      <td>NaN</td>\n",
       "    </tr>\n",
       "  </tbody>\n",
       "</table>\n",
       "<p>5 rows × 29 columns</p>\n",
       "</div>"
      ],
      "text/plain": [
       "   user_id  item_id  rating  rating_timestamp                        title  \\\n",
       "0        1        1     4.0         964982703             Toy Story (1995)   \n",
       "1        1        3     4.0         964981247      Grumpier Old Men (1995)   \n",
       "2        1        6     4.0         964982224                  Heat (1995)   \n",
       "3        1       47     5.0         964983815  Seven (a.k.a. Se7en) (1995)   \n",
       "4        1       50     5.0         964982931   Usual Suspects, The (1995)   \n",
       "\n",
       "   (no genres listed)  Action  Adventure  Animation  Children  ...  Mystery  \\\n",
       "0                   0       0          1          1         1  ...        0   \n",
       "1                   0       0          0          0         0  ...        0   \n",
       "2                   0       1          0          0         0  ...        0   \n",
       "3                   0       0          0          0         0  ...        1   \n",
       "4                   0       0          0          0         0  ...        1   \n",
       "\n",
       "   Romance  Sci-Fi  Thriller  War  Western  imdb_id  tmdb_id   tag  timestamp  \n",
       "0        0       0         0    0        0   114709    862.0  1543        NaN  \n",
       "1        1       0         0    0        0   113228  15602.0  1543        NaN  \n",
       "2        0       0         1    0        0   113277    949.0  1543        NaN  \n",
       "3        0       0         1    0        0   114369    807.0  1543        NaN  \n",
       "4        0       0         1    0        0   114814    629.0  1543        NaN  \n",
       "\n",
       "[5 rows x 29 columns]"
      ]
     },
     "execution_count": 17,
     "metadata": {},
     "output_type": "execute_result"
    }
   ],
   "source": [
    "data.head()"
   ]
  },
  {
   "cell_type": "code",
   "execution_count": 18,
   "id": "784b10fa",
   "metadata": {},
   "outputs": [
    {
     "data": {
      "text/plain": [
       "user_id                   0\n",
       "item_id                   0\n",
       "rating                    0\n",
       "rating_timestamp          0\n",
       "title                     0\n",
       "(no genres listed)        0\n",
       "Action                    0\n",
       "Adventure                 0\n",
       "Animation                 0\n",
       "Children                  0\n",
       "Comedy                    0\n",
       "Crime                     0\n",
       "Documentary               0\n",
       "Drama                     0\n",
       "Fantasy                   0\n",
       "Film-Noir                 0\n",
       "Horror                    0\n",
       "IMAX                      0\n",
       "Musical                   0\n",
       "Mystery                   0\n",
       "Romance                   0\n",
       "Sci-Fi                    0\n",
       "Thriller                  0\n",
       "War                       0\n",
       "Western                   0\n",
       "imdb_id                   0\n",
       "tmdb_id                  13\n",
       "tag                       0\n",
       "timestamp             99201\n",
       "dtype: int64"
      ]
     },
     "execution_count": 18,
     "metadata": {},
     "output_type": "execute_result"
    }
   ],
   "source": [
    "pd.isnull(data).sum()"
   ]
  },
  {
   "cell_type": "code",
   "execution_count": 19,
   "id": "3253fcac",
   "metadata": {},
   "outputs": [
    {
     "data": {
      "text/plain": [
       "user_id                 int64\n",
       "item_id                 int64\n",
       "rating                float64\n",
       "rating_timestamp        int64\n",
       "title                  object\n",
       "(no genres listed)      int64\n",
       "Action                  int64\n",
       "Adventure               int64\n",
       "Animation               int64\n",
       "Children                int64\n",
       "Comedy                  int64\n",
       "Crime                   int64\n",
       "Documentary             int64\n",
       "Drama                   int64\n",
       "Fantasy                 int64\n",
       "Film-Noir               int64\n",
       "Horror                  int64\n",
       "IMAX                    int64\n",
       "Musical                 int64\n",
       "Mystery                 int64\n",
       "Romance                 int64\n",
       "Sci-Fi                  int64\n",
       "Thriller                int64\n",
       "War                     int64\n",
       "Western                 int64\n",
       "imdb_id                 int64\n",
       "tmdb_id               float64\n",
       "tag                     int64\n",
       "timestamp             float64\n",
       "dtype: object"
      ]
     },
     "execution_count": 19,
     "metadata": {},
     "output_type": "execute_result"
    }
   ],
   "source": [
    "data.dtypes"
   ]
  },
  {
   "cell_type": "code",
   "execution_count": 22,
   "id": "db04a9ef",
   "metadata": {},
   "outputs": [],
   "source": [
    "fe_col_x = ['user_id', 'item_id', 'rating_timestamp',\n",
    "       '(no genres listed)', 'Action', 'Adventure', 'Animation', 'Children',\n",
    "       'Comedy', 'Crime', 'Documentary', 'Drama', 'Fantasy', 'Film-Noir',\n",
    "       'Horror', 'IMAX', 'Musical', 'Mystery', 'Romance', 'Sci-Fi', 'Thriller',\n",
    "       'War', 'Western', 'imdb_id', 'tag']\n",
    "col_y = ['rating']"
   ]
  },
  {
   "cell_type": "code",
   "execution_count": 23,
   "id": "c8624950",
   "metadata": {},
   "outputs": [],
   "source": [
    "data_x = data[fe_col_x]\n",
    "data_y = data[col_y]"
   ]
  },
  {
   "cell_type": "code",
   "execution_count": 24,
   "id": "91bc8a70",
   "metadata": {},
   "outputs": [],
   "source": [
    "train_x, test_x, train_y, test_y = train_test_split(data_x, data_y, test_size = 0.2)"
   ]
  },
  {
   "cell_type": "markdown",
   "id": "b8536bcc",
   "metadata": {},
   "source": [
    "## GBR"
   ]
  },
  {
   "cell_type": "code",
   "execution_count": 28,
   "id": "cdbf0405",
   "metadata": {},
   "outputs": [
    {
     "name": "stderr",
     "output_type": "stream",
     "text": [
      "/Users/haowenwang/opt/anaconda3/lib/python3.9/site-packages/sklearn/ensemble/_gb.py:494: DataConversionWarning: A column-vector y was passed when a 1d array was expected. Please change the shape of y to (n_samples, ), for example using ravel().\n",
      "  y = column_or_1d(y, warn=True)\n"
     ]
    },
    {
     "data": {
      "text/plain": [
       "1.0787017060676407"
      ]
     },
     "execution_count": 28,
     "metadata": {},
     "output_type": "execute_result"
    }
   ],
   "source": [
    "from sklearn.ensemble import GradientBoostingRegressor\n",
    "from sklearn.metrics import mean_squared_error\n",
    "\n",
    "est = GradientBoostingRegressor(\n",
    "    n_estimators=100, learning_rate=0.01, max_depth=1, random_state=0,\n",
    "    loss='squared_error'\n",
    ").fit(train_x, train_y)\n",
    "mean_squared_error(test_y, est.predict(test_x))"
   ]
  },
  {
   "cell_type": "markdown",
   "id": "c5ba9e65",
   "metadata": {},
   "source": [
    "## Lasso"
   ]
  },
  {
   "cell_type": "code",
   "execution_count": 34,
   "id": "0566a72d",
   "metadata": {},
   "outputs": [
    {
     "data": {
      "text/plain": [
       "1.0475363370292343"
      ]
     },
     "execution_count": 34,
     "metadata": {},
     "output_type": "execute_result"
    }
   ],
   "source": [
    "from sklearn import linear_model\n",
    "reg = linear_model.Lasso(alpha=0.001)\n",
    "reg.fit(train_x, train_y)\n",
    "\n",
    "mean_squared_error(test_y, reg.predict(test_x))\n"
   ]
  },
  {
   "cell_type": "code",
   "execution_count": null,
   "id": "b43589fa",
   "metadata": {},
   "outputs": [],
   "source": []
  }
 ],
 "metadata": {
  "kernelspec": {
   "display_name": "Python 3 (ipykernel)",
   "language": "python",
   "name": "python3"
  },
  "language_info": {
   "codemirror_mode": {
    "name": "ipython",
    "version": 3
   },
   "file_extension": ".py",
   "mimetype": "text/x-python",
   "name": "python",
   "nbconvert_exporter": "python",
   "pygments_lexer": "ipython3",
   "version": "3.9.12"
  }
 },
 "nbformat": 4,
 "nbformat_minor": 5
}
